{
 "cells": [
  {
   "cell_type": "code",
   "execution_count": 1,
   "metadata": {},
   "outputs": [],
   "source": [
    "def collatz(n):\n",
    "    if n % 2 == 0:\n",
    "        return n/2\n",
    "    else:\n",
    "        return (3*n+1)"
   ]
  },
  {
   "cell_type": "code",
   "execution_count": 2,
   "metadata": {},
   "outputs": [],
   "source": [
    "def collatz_steps(n, record_steps=False):\n",
    "    steps = 0\n",
    "    step_values = []\n",
    "    while True:\n",
    "        n = collatz(n)\n",
    "        steps += 1\n",
    "        if record_steps: # stupidly inefficient but it doesn't matter\n",
    "            step_values.append(n)\n",
    "        if n == 1:\n",
    "            break\n",
    "    if record_steps:\n",
    "        return steps, step_values\n",
    "    return steps"
   ]
  },
  {
   "cell_type": "markdown",
   "metadata": {},
   "source": [
    "Data collected from: http://www.ericr.nl/wondrous/delrecs.html"
   ]
  },
  {
   "cell_type": "code",
   "execution_count": 11,
   "metadata": {},
   "outputs": [],
   "source": [
    "import pandas as pd\n",
    "from numpy import longdouble\n",
    "\n",
    "delay_records = pd.read_csv('collatz delay records.csv')\n",
    "delay_records.N = delay_records.N.str.replace(',', '').astype(longdouble)"
   ]
  },
  {
   "cell_type": "code",
   "execution_count": 12,
   "metadata": {},
   "outputs": [],
   "source": [
    "delay_records['my_delay_calc'] = delay_records.N.apply(collatz_steps)\n",
    "delay_records['difference'] = delay_records['Delay'] - delay_records['my_delay_calc']"
   ]
  },
  {
   "cell_type": "code",
   "execution_count": 41,
   "metadata": {},
   "outputs": [],
   "source": [
    "delay_records.to_csv('collatz delay records with my calc.csv', index=False)"
   ]
  },
  {
   "cell_type": "markdown",
   "metadata": {},
   "source": [
    "Lowest N with a delay value mismatch"
   ]
  },
  {
   "cell_type": "code",
   "execution_count": 5,
   "metadata": {},
   "outputs": [
    {
     "name": "stdout",
     "output_type": "stream",
     "text": [
      "2081751768559.0\n"
     ]
    }
   ],
   "source": [
    "lowest_N = delay_records[delay_records.difference != 0].N.sort_values().iloc[0]\n",
    "print(lowest_N)"
   ]
  },
  {
   "cell_type": "code",
   "execution_count": 6,
   "metadata": {},
   "outputs": [
    {
     "name": "stdout",
     "output_type": "stream",
     "text": [
      "385\n"
     ]
    }
   ],
   "source": [
    "steps, step_values = collatz_steps(lowest_N, record_steps=True)\n",
    "print(steps)"
   ]
  },
  {
   "cell_type": "markdown",
   "metadata": {},
   "source": [
    "Obtained by inputing lowest_N at this page: http://www.ericr.nl/wondrous/showsteps.html"
   ]
  },
  {
   "cell_type": "code",
   "execution_count": 35,
   "metadata": {},
   "outputs": [],
   "source": [
    "from numpy import longdouble, longlong, uint64\n",
    "\n",
    "steps_comparison = pd.read_csv('collatz steps for 2081751768559.csv')#, converters={'Number': uint64})\n",
    "# steps_comparison.Number = steps_comparison.Number.astype(longdouble)"
   ]
  },
  {
   "cell_type": "markdown",
   "metadata": {},
   "source": [
    "File is not being read properly. This should end with '358' instead of '350'."
   ]
  },
  {
   "cell_type": "code",
   "execution_count": 36,
   "metadata": {},
   "outputs": [
    {
     "data": {
      "text/plain": [
       "'1,039,526,319,483,350'"
      ]
     },
     "execution_count": 36,
     "metadata": {},
     "output_type": "execute_result"
    }
   ],
   "source": [
    "steps_comparison.Number.shift(-1).loc[65]"
   ]
  },
  {
   "cell_type": "code",
   "execution_count": 23,
   "metadata": {},
   "outputs": [
    {
     "data": {
      "text/plain": [
       "18446744073709551615"
      ]
     },
     "execution_count": 23,
     "metadata": {},
     "output_type": "execute_result"
    }
   ],
   "source": [
    "from numpy import iinfo, finfo, uint64\n",
    "\n",
    "iinfo(uint64).max#, iinfo(longlong).max"
   ]
  },
  {
   "cell_type": "code",
   "execution_count": 8,
   "metadata": {},
   "outputs": [
    {
     "data": {
      "text/plain": [
       "65     -8.0\n",
       "67     -8.0\n",
       "69     -8.0\n",
       "70     -9.0\n",
       "71     -8.0\n",
       "       ... \n",
       "1433    NaN\n",
       "1434    NaN\n",
       "1435    NaN\n",
       "1436    NaN\n",
       "1437    NaN\n",
       "Length: 1371, dtype: float64"
      ]
     },
     "execution_count": 8,
     "metadata": {},
     "output_type": "execute_result"
    }
   ],
   "source": [
    "step_value_differences = steps_comparison.Number.shift(-1) - pd.Series(step_values)\n",
    "step_value_differences[step_value_differences != 0]"
   ]
  },
  {
   "cell_type": "markdown",
   "metadata": {},
   "source": [
    "So difference starts at step 65"
   ]
  },
  {
   "cell_type": "code",
   "execution_count": 10,
   "metadata": {},
   "outputs": [
    {
     "data": {
      "text/plain": [
       "(1039526319483358.0, 1039526319483350.0)"
      ]
     },
     "execution_count": 10,
     "metadata": {},
     "output_type": "execute_result"
    }
   ],
   "source": [
    "step_values[65], steps_comparison.Number.shift(-1).loc[65]"
   ]
  },
  {
   "cell_type": "code",
   "execution_count": 84,
   "metadata": {},
   "outputs": [],
   "source": [
    "pd.DataFrame(step_values).merge(steps_comparison[['Number']].shift(-1), how='right', right_index=True, left_index=True).\\\n",
    "rename(columns={0: 'Calculated', 'Number': 'Downloaded'}).to_csv('calc vs downloaded collatz steps for 2081751768559.csv')"
   ]
  }
 ],
 "metadata": {
  "file_extension": ".py",
  "kernelspec": {
   "display_name": "Python 3.8.1 64-bit",
   "language": "python",
   "name": "python38164bit67cf1bb56bd844478a05be8617ff38d4"
  },
  "language_info": {
   "codemirror_mode": {
    "name": "ipython",
    "version": 3
   },
   "file_extension": ".py",
   "mimetype": "text/x-python",
   "name": "python",
   "nbconvert_exporter": "python",
   "pygments_lexer": "ipython3",
   "version": "3.8.1"
  },
  "mimetype": "text/x-python",
  "name": "python",
  "npconvert_exporter": "python",
  "pygments_lexer": "ipython3",
  "version": 3
 },
 "nbformat": 4,
 "nbformat_minor": 2
}
